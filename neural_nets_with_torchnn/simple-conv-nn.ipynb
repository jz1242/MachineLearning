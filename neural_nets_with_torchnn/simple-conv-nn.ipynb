{
 "cells": [
  {
   "cell_type": "code",
   "execution_count": 36,
   "metadata": {
    "collapsed": true
   },
   "outputs": [],
   "source": [
    "%matplotlib inline\n",
    "import matplotlib.pyplot as plt\n",
    "import numpy as np\n",
    "import torch\n",
    "from torch import autograd\n",
    "import torch.nn.functional as F\n",
    "import time\n",
    "\n",
    "images = np.load(\"D:/work/JHUschoolStuff/machinelearning/project1/cs475_project_data/images.npy\")\n",
    "labels = np.load(\"D:/work/JHUschoolStuff/machinelearning/project1/cs475_project_data/labels.npy\")\n",
    "test = np.load(\"D:/work/JHUschoolStuff/machinelearning/project1/cs475_project_data/test_images.npy\")\n",
    "height = images.shape[1]\n",
    "width = images.shape[2]\n",
    "size = height * width\n",
    "images = (images - images.mean()) / images.std()\n",
    "data = images.reshape(images.shape[0],size)\n",
    "test_data = test.reshape(test.shape[0], size)\n",
    "test_data = (test_data - test_data.mean()) / test_data.std()\n",
    "NUM_OPT_STEPS = 10000\n",
    "NUM_CLASSES = 5\n",
    "train_seqs = data[0:45000,:]\n",
    "train_labels = labels[0:45000]\n",
    "val_seqs = data[45000:,:]\n",
    "val_labels = labels[45000:]"
   ]
  },
  {
   "cell_type": "code",
   "execution_count": 13,
   "metadata": {
    "collapsed": true
   },
   "outputs": [],
   "source": [
    "class TooSimpleConvNN(torch.nn.Module):\n",
    "    def __init__(self):\n",
    "        super().__init__()\n",
    "        # 3x3 convolution that takes in an image with one channel\n",
    "        # and outputs an image with 8 channels.\n",
    "        self.conv1 = torch.nn.Conv2d(1, 8, kernel_size=3)\n",
    "        # 3x3 convolution that takes in an image with 8 channels\n",
    "        # and outputs an image with 16 channels. The output image\n",
    "        # has approximately half the height and half the width\n",
    "        # because of the stride of 2.\n",
    "        self.conv2 = torch.nn.Conv2d(8, 16, kernel_size=3, stride=2)\n",
    "        # 1x1 convolution that takes in an image with 16 channels and\n",
    "        # produces an image with 5 channels. Here, the 5 channels\n",
    "        # will correspond to class scores.\n",
    "        self.final_conv = torch.nn.Conv2d(16, 5, kernel_size=1)\n",
    "    def forward(self, x):\n",
    "        # Convolutions work with images of shape\n",
    "        # [batch_size, num_channels, height, width]\n",
    "        x = x.view(-1, height, width).unsqueeze(1)\n",
    "        x = F.relu(self.conv1(x))\n",
    "        x = F.relu(self.conv2(x))\n",
    "        n, c, h, w = x.size()\n",
    "        x = F.avg_pool2d(x, kernel_size=[h, w])\n",
    "        x = self.final_conv(x).view(-1, NUM_CLASSES)\n",
    "        return x\n"
   ]
  },
  {
   "cell_type": "code",
   "execution_count": 44,
   "metadata": {
    "collapsed": true
   },
   "outputs": [],
   "source": [
    "model = TooSimpleConvNN()\n",
    "optimizer = torch.optim.Adam(model.parameters(), lr=0.01)"
   ]
  },
  {
   "cell_type": "code",
   "execution_count": 15,
   "metadata": {
    "collapsed": true
   },
   "outputs": [],
   "source": [
    "def train(batch_size):\n",
    "    # model.train() puts our model in train mode, which can require different\n",
    "    # behavior than eval mode (for example in the case of dropout).\n",
    "    model.train()\n",
    "    # i is is a 1-D array with shape [batch_size]\n",
    "    i = np.random.choice(train_seqs.shape[0], size=batch_size, replace=False)\n",
    "    x = autograd.Variable(torch.from_numpy(train_seqs[i].astype(np.float32)))\n",
    "    y = autograd.Variable(torch.from_numpy(train_labels[i].astype(np.int))).long()\n",
    "    optimizer.zero_grad()\n",
    "    y_hat_ = model(x)\n",
    "    loss = F.cross_entropy(y_hat_, y)\n",
    "    loss.backward()\n",
    "    optimizer.step()\n",
    "    return loss.data[0]\n"
   ]
  },
  {
   "cell_type": "code",
   "execution_count": 16,
   "metadata": {
    "collapsed": true
   },
   "outputs": [],
   "source": [
    "def approx_train_accuracy(model):\n",
    "    i = np.random.choice(train_seqs.shape[0], size=1000, replace=False)\n",
    "    x = autograd.Variable(torch.from_numpy(train_seqs[i].astype(np.float32)))\n",
    "    y = autograd.Variable(torch.from_numpy(train_labels[i].astype(np.int)))\n",
    "    y_hat_ = model(x)\n",
    "    y_hat = np.zeros(1000)\n",
    "    for i in range(1000):\n",
    "        score = y_hat_[i,:]\n",
    "        y_hat[i] = torch.max(score.data, 0)[1][0]\n",
    "    return accuracy(y_hat, y.data.numpy())"
   ]
  },
  {
   "cell_type": "code",
   "execution_count": 17,
   "metadata": {
    "collapsed": true
   },
   "outputs": [],
   "source": [
    "def val_accuracy(model):\n",
    "    x = autograd.Variable(torch.from_numpy(val_seqs.astype(np.float32)))\n",
    "    y = autograd.Variable(torch.from_numpy(val_labels.astype(np.int)))\n",
    "    y_hat_ = model(x)\n",
    "    y_hat = np.zeros(5000)\n",
    "    for i in range(5000):\n",
    "        score = y_hat_[i,:]\n",
    "        y_hat[i] = torch.max(score.data, 0)[1][0]\n",
    "    return accuracy(y_hat, y.data.numpy())"
   ]
  },
  {
   "cell_type": "code",
   "execution_count": 18,
   "metadata": {
    "collapsed": true
   },
   "outputs": [],
   "source": [
    "def accuracy(y, y_hat):\n",
    "    return (y == y_hat).astype(np.float).mean()"
   ]
  },
  {
   "cell_type": "code",
   "execution_count": 19,
   "metadata": {
    "collapsed": true
   },
   "outputs": [],
   "source": [
    "def plot(train_accs, val_accs):\n",
    "    plt.figure(200)\n",
    "    plt.title('Training Accuracy')\n",
    "    plt.xlabel('Iteration')\n",
    "    plt.ylabel('Accuracy')\n",
    "    plt.plot(train_accs, 'b')\n",
    "    plt.show()\n",
    "    plt.figure(300)\n",
    "    plt.title('Validation Accuracy')\n",
    "    plt.xlabel('Iteration')\n",
    "    plt.ylabel('Accuracy')   \n",
    "    plt.plot(val_accs, 'b')\n",
    "    plt.show()"
   ]
  },
  {
   "cell_type": "code",
   "execution_count": 20,
   "metadata": {},
   "outputs": [],
   "source": [
    "def runModel(model, batch_size):\n",
    "    train_accs, val_accs = [], []\n",
    "    for i in range(NUM_OPT_STEPS):\n",
    "        train(batch_size)\n",
    "        if i % 100 == 0:\n",
    "            train_accs.append(approx_train_accuracy(model))\n",
    "            val_accs.append(val_accuracy(model))\n",
    "            print(\"%6d %5.2f %5.2f\" % (i, train_accs[-1], val_accs[-1]))\n",
    "    plot(train_accs, val_accs)"
   ]
  },
  {
   "cell_type": "code",
   "execution_count": 21,
   "metadata": {
    "collapsed": true
   },
   "outputs": [],
   "source": [
    "def reset(model):\n",
    "    for m in model.children():\n",
    "        m.reset_parameters()"
   ]
  },
  {
   "cell_type": "code",
   "execution_count": 34,
   "metadata": {
    "scrolled": true
   },
   "outputs": [
    {
     "name": "stdout",
     "output_type": "stream",
     "text": [
      "     0  0.17  0.17\n",
      "   100  0.42  0.43\n",
      "   200  0.40  0.42\n",
      "   300  0.45  0.45\n",
      "   400  0.45  0.44\n",
      "   500  0.53  0.53\n",
      "   600  0.50  0.52\n",
      "   700  0.53  0.53\n",
      "   800  0.56  0.55\n",
      "   900  0.60  0.59\n",
      "  1000  0.61  0.61\n",
      "  1100  0.56  0.60\n",
      "  1200  0.57  0.59\n",
      "  1300  0.60  0.62\n",
      "  1400  0.56  0.57\n",
      "  1500  0.58  0.59\n",
      "  1600  0.66  0.65\n",
      "  1700  0.62  0.64\n",
      "  1800  0.65  0.65\n",
      "  1900  0.62  0.62\n"
     ]
    },
    {
     "data": {
      "image/png": "[encoded data removed]",
      "text/plain": [
       "<matplotlib.figure.Figure at 0x407600fcc0>"
      ]
     },
     "metadata": {},
     "output_type": "display_data"
    },
    {
     "data": {
      "image/png": "[encoded data removed]",
      "text/plain": [
       "<matplotlib.figure.Figure at 0x4000f92be0>"
      ]
     },
     "metadata": {},
     "output_type": "display_data"
    }
   ],
   "source": [
    "runModel(model, 10)"
   ]
  },
  {
   "cell_type": "code",
   "execution_count": 47,
   "metadata": {},
   "outputs": [
    {
     "name": "stdout",
     "output_type": "stream",
     "text": [
      "     0  0.20  0.21\n",
      "   100  0.60  0.64\n",
      "   200  0.51  0.51\n",
      "   300  0.68  0.66\n",
      "   400  0.70  0.71\n",
      "   500  0.75  0.74\n",
      "   600  0.76  0.74\n",
      "   700  0.77  0.76\n",
      "   800  0.75  0.74\n",
      "   900  0.77  0.76\n",
      "  1000  0.78  0.78\n",
      "  1100  0.78  0.79\n",
      "  1200  0.76  0.80\n",
      "  1300  0.80  0.78\n",
      "  1400  0.77  0.77\n",
      "  1500  0.76  0.78\n",
      "  1600  0.81  0.81\n",
      "  1700  0.81  0.81\n",
      "  1800  0.79  0.80\n",
      "  1900  0.81  0.82\n",
      "  2000  0.81  0.81\n",
      "  2100  0.83  0.81\n",
      "  2200  0.78  0.78\n",
      "  2300  0.80  0.80\n",
      "  2400  0.79  0.80\n",
      "  2500  0.84  0.82\n",
      "  2600  0.82  0.81\n",
      "  2700  0.80  0.80\n",
      "  2800  0.80  0.81\n",
      "  2900  0.79  0.80\n",
      "  3000  0.82  0.83\n",
      "  3100  0.84  0.83\n",
      "  3200  0.76  0.76\n",
      "  3300  0.79  0.80\n",
      "  3400  0.83  0.83\n",
      "  3500  0.81  0.81\n",
      "  3600  0.83  0.83\n",
      "  3700  0.84  0.83\n",
      "  3800  0.82  0.81\n",
      "  3900  0.80  0.81\n",
      "  4000  0.83  0.83\n",
      "  4100  0.82  0.83\n",
      "  4200  0.84  0.84\n",
      "  4300  0.83  0.83\n",
      "  4400  0.83  0.82\n",
      "  4500  0.82  0.83\n",
      "  4600  0.83  0.84\n",
      "  4700  0.84  0.84\n",
      "  4800  0.84  0.84\n",
      "  4900  0.84  0.84\n",
      "  5000  0.83  0.84\n",
      "  5100  0.81  0.81\n",
      "  5200  0.85  0.84\n",
      "  5300  0.82  0.84\n",
      "  5400  0.84  0.85\n",
      "  5500  0.83  0.84\n",
      "  5600  0.84  0.84\n",
      "  5700  0.87  0.84\n",
      "  5800  0.85  0.83\n",
      "  5900  0.83  0.83\n",
      "  6000  0.84  0.85\n",
      "  6100  0.84  0.85\n",
      "  6200  0.84  0.83\n",
      "  6300  0.87  0.85\n",
      "  6400  0.84  0.83\n",
      "  6500  0.83  0.84\n",
      "  6600  0.82  0.83\n",
      "  6700  0.84  0.83\n",
      "  6800  0.83  0.85\n",
      "  6900  0.87  0.85\n",
      "  7000  0.85  0.84\n",
      "  7100  0.86  0.86\n",
      "  7200  0.79  0.78\n",
      "  7300  0.84  0.86\n",
      "  7400  0.89  0.86\n",
      "  7500  0.84  0.83\n",
      "  7600  0.85  0.83\n",
      "  7700  0.86  0.85\n",
      "  7800  0.86  0.85\n",
      "  7900  0.86  0.85\n",
      "  8000  0.88  0.86\n",
      "  8100  0.84  0.85\n",
      "  8200  0.85  0.85\n",
      "  8300  0.83  0.84\n",
      "  8400  0.84  0.85\n",
      "  8500  0.85  0.85\n",
      "  8600  0.84  0.85\n",
      "  8700  0.84  0.84\n",
      "  8800  0.86  0.86\n",
      "  8900  0.87  0.85\n",
      "  9000  0.84  0.84\n",
      "  9100  0.86  0.86\n",
      "  9200  0.86  0.85\n",
      "  9300  0.86  0.86\n",
      "  9400  0.86  0.85\n",
      "  9500  0.85  0.85\n",
      "  9600  0.86  0.86\n",
      "  9700  0.86  0.86\n",
      "  9800  0.87  0.87\n",
      "  9900  0.86  0.83\n"
     ]
    },
    {
     "data": {
      "image/png": "[encoded data removed]",
      "text/plain": [
       "<matplotlib.figure.Figure at 0x40002af710>"
      ]
     },
     "metadata": {},
     "output_type": "display_data"
    },
    {
     "data": {
      "image/png": "[encoded data removed]",
      "text/plain": [
       "<matplotlib.figure.Figure at 0x40001c6e48>"
      ]
     },
     "metadata": {},
     "output_type": "display_data"
    },
    {
     "name": "stdout",
     "output_type": "stream",
     "text": [
      "212.58488821983337\n"
     ]
    }
   ],
   "source": [
    "reset(model)\n",
    "start = time.time()\n",
    "runModel(model, 60)\n",
    "end = time.time()\n",
    "print(end - start)"
   ]
  },
  {
   "cell_type": "markdown",
   "metadata": {},
   "source": [
    "The best validation accuracy I obtained was 86. The configuration I used was 60 batch size, 10k optimization steps, 0.01 learning rate. It took a total of 212 seconds to run."
   ]
  }
 ],
 "metadata": {
  "kernelspec": {
   "display_name": "Python 3",
   "language": "python",
   "name": "python3"
  },
  "language_info": {
   "codemirror_mode": {
    "name": "ipython",
    "version": 3
   },
   "file_extension": ".py",
   "mimetype": "text/x-python",
   "name": "python",
   "nbconvert_exporter": "python",
   "pygments_lexer": "ipython3",
   "version": "3.6.1"
  }
 },
 "nbformat": 4,
 "nbformat_minor": 2
}
