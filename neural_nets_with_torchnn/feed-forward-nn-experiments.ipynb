{
 "cells": [
  {
   "cell_type": "code",
   "execution_count": 139,
   "metadata": {
    "collapsed": true
   },
   "outputs": [],
   "source": [
    "%matplotlib inline\n",
    "import matplotlib.pyplot as plt\n",
    "import numpy as np\n",
    "import torch\n",
    "from torch import autograd\n",
    "import torch.nn.functional as F\n",
    "import time\n",
    "\n",
    "images = np.load(\"D:/work/JHUschoolStuff/machinelearning/project1/cs475_project_data/images.npy\")\n",
    "labels = np.load(\"D:/work/JHUschoolStuff/machinelearning/project1/cs475_project_data/labels.npy\")\n",
    "test = np.load(\"D:/work/JHUschoolStuff/machinelearning/project1/cs475_project_data/test_images.npy\")\n",
    "height = images.shape[1]\n",
    "width = images.shape[2]\n",
    "size = height * width\n",
    "images = (images - images.mean()) / images.std()\n",
    "data = images.reshape(images.shape[0],size)\n",
    "data = torch.from_numpy(data).float()\n",
    "labels = torch.from_numpy(labels).float()\n",
    "test_data = test.reshape(test.shape[0], size)\n",
    "test_data = (test_data - test_data.mean()) / test_data.std()\n",
    "train_seqs = data[0:45000,:]\n",
    "train_labels = labels[0:45000]\n",
    "val_seqs = data[45000:,:]\n",
    "val_labels = labels[45000:]"
   ]
  },
  {
   "cell_type": "code",
   "execution_count": 125,
   "metadata": {
    "collapsed": true
   },
   "outputs": [],
   "source": [
    "class TwoLayerNN(torch.nn.Module):\n",
    "    def __init__(self, layer_1):\n",
    "        super().__init__()\n",
    "        self.layer_1 = torch.nn.Linear(height * width, layer_1)\n",
    "        self.layer_2 = torch.nn.Linear(layer_1, 5)\n",
    "        self.drop = torch.nn.Dropout(p = 0.3)\n",
    "    def forward(self, x):\n",
    "        x = self.layer_1(x)\n",
    "        y = F.relu(x)\n",
    "        y = self.drop(y)\n",
    "        z = self.layer_2(y)\n",
    "        return z"
   ]
  },
  {
   "cell_type": "code",
   "execution_count": 91,
   "metadata": {
    "collapsed": true
   },
   "outputs": [],
   "source": [
    "class ThreeLayerNN(torch.nn.Module):\n",
    "    def __init__(self, layer_1, layer_2):\n",
    "        super().__init__()\n",
    "        self.layer_1 = torch.nn.Linear(height * width, layer_1)\n",
    "        self.layer_2 = torch.nn.Linear(layer_1, layer_2)\n",
    "        self.layer_3 = torch.nn.Linear(layer_2, 5)\n",
    "    def forward(self, x):\n",
    "        x = self.layer_1(x)\n",
    "        y = F.relu(x)\n",
    "        z = self.layer_2(y)\n",
    "        a = F.relu(z)\n",
    "        b = self.layer_3(a)\n",
    "        return b"
   ]
  },
  {
   "cell_type": "code",
   "execution_count": 92,
   "metadata": {
    "collapsed": true
   },
   "outputs": [],
   "source": [
    "class FourLayerNN(torch.nn.Module):\n",
    "    def __init__(self, layer_1, layer_2, layer_3):\n",
    "        super().__init__()\n",
    "        self.layer_1 = torch.nn.Linear(height * width, layer_1)\n",
    "        self.layer_2 = torch.nn.Linear(layer_1, layer_2)\n",
    "        self.layer_3 = torch.nn.Linear(layer_2, layer_3)\n",
    "        self.layer_4 = torch.nn.Linear(layer_3, 5)\n",
    "    def forward(self, x):\n",
    "        x = self.layer_1(x)\n",
    "        y = F.relu(x)\n",
    "        z = self.layer_2(y)\n",
    "        a = F.relu(z)\n",
    "        b = self.layer_3(a)\n",
    "        c = F.relu(b)\n",
    "        d = self.layer_4(c)\n",
    "        return d"
   ]
  },
  {
   "cell_type": "code",
   "execution_count": 132,
   "metadata": {
    "collapsed": true
   },
   "outputs": [],
   "source": [
    "def train(model, optimizer, batch_size):\n",
    "    # model.train() puts our model in train mode, which can require different\n",
    "    # behavior than eval mode (for example in the case of dropout).\n",
    "    model.train()\n",
    "    \n",
    "    # i is is a 1-D array with shape [batch_size]\n",
    "    i = np.random.choice(train_seqs.shape[0], size=batch_size, replace=False)\n",
    "    i = torch.from_numpy(i).long()\n",
    "    x = autograd.Variable(train_seqs[i, :])\n",
    "    y = autograd.Variable(train_labels[i]).long()\n",
    "    optimizer.zero_grad()\n",
    "    y_hat_ = model(x)\n",
    "    loss = F.multi_margin_loss(y_hat_, y) #using multi_margin_loss for last one\n",
    "    loss.backward()\n",
    "    optimizer.step()\n",
    "    return loss.data[0]\n"
   ]
  },
  {
   "cell_type": "code",
   "execution_count": 112,
   "metadata": {
    "collapsed": true
   },
   "outputs": [],
   "source": [
    "def approx_train_accuracy(model):\n",
    "    model.eval()\n",
    "    i = np.random.choice(train_seqs.shape[0], size=1000, replace=False)\n",
    "    i = torch.from_numpy(i).long()\n",
    "    x = autograd.Variable(train_seqs[i, :])\n",
    "    y = autograd.Variable(train_labels[i]).long()\n",
    "    y_hat_ = model(x)\n",
    "    y_hat = np.zeros(1000)\n",
    "    for i in range(1000):\n",
    "        score = y_hat_[i,:]\n",
    "        y_hat[i] = torch.max(score.data, 0)[1][0]\n",
    "    return accuracy(y_hat, y.data.numpy())"
   ]
  },
  {
   "cell_type": "code",
   "execution_count": 111,
   "metadata": {
    "collapsed": true
   },
   "outputs": [],
   "source": [
    "def val_accuracy(model):\n",
    "    model.eval()\n",
    "    x = autograd.Variable(val_seqs)\n",
    "    y = autograd.Variable(val_labels)\n",
    "    y_hat_ = model(x)\n",
    "    y_hat = np.zeros(5000)\n",
    "    for i in range(5000):\n",
    "        score = y_hat_[i,:]\n",
    "        y_hat[i] = torch.max(score.data, 0)[1][0]\n",
    "    return accuracy(y_hat, y.data.numpy())"
   ]
  },
  {
   "cell_type": "code",
   "execution_count": 96,
   "metadata": {
    "collapsed": true
   },
   "outputs": [],
   "source": [
    "def accuracy(y, y_hat):\n",
    "    return (y == y_hat).astype(np.float).mean()"
   ]
  },
  {
   "cell_type": "code",
   "execution_count": 97,
   "metadata": {
    "collapsed": true
   },
   "outputs": [],
   "source": [
    "def plot(train_accs, val_accs):\n",
    "    plt.figure(200)\n",
    "    plt.title('Training Accuracy')\n",
    "    plt.xlabel('Iteration')\n",
    "    plt.ylabel('Accuracy')\n",
    "    plt.plot(train_accs, 'b')\n",
    "    plt.show()\n",
    "    plt.figure(300)\n",
    "    plt.title('Validation Accuracy')\n",
    "    plt.xlabel('Iteration')\n",
    "    plt.ylabel('Accuracy')   \n",
    "    plt.plot(val_accs, 'b')\n",
    "    plt.show()"
   ]
  },
  {
   "cell_type": "code",
   "execution_count": 98,
   "metadata": {
    "collapsed": true
   },
   "outputs": [],
   "source": [
    "def runModel(model, batch_size, NUM_OPT_STEPS, optimizer):\n",
    "    train_accs, val_accs = [], []\n",
    "    for i in range(NUM_OPT_STEPS):\n",
    "        train(model, optimizer, batch_size)\n",
    "        if i % 100 == 0:\n",
    "            train_accs.append(approx_train_accuracy(model))\n",
    "            val_accs.append(val_accuracy(model))\n",
    "            print(\"%6d %5.2f %5.2f\" % (i, train_accs[-1], val_accs[-1]))\n",
    "    plot(train_accs, val_accs)"
   ]
  },
  {
   "cell_type": "code",
   "execution_count": 102,
   "metadata": {
    "scrolled": true
   },
   "outputs": [
    {
     "name": "stdout",
     "output_type": "stream",
     "text": [
      "     0  0.32  0.34\n",
      "   100  0.74  0.77\n",
      "   200  0.77  0.80\n",
      "   300  0.78  0.80\n",
      "   400  0.81  0.82\n",
      "   500  0.82  0.82\n",
      "   600  0.83  0.83\n",
      "   700  0.84  0.84\n",
      "   800  0.87  0.85\n",
      "   900  0.83  0.84\n",
      "  1000  0.86  0.83\n",
      "  1100  0.88  0.85\n",
      "  1200  0.84  0.85\n",
      "  1300  0.87  0.85\n",
      "  1400  0.88  0.86\n",
      "  1500  0.87  0.85\n",
      "  1600  0.87  0.85\n",
      "  1700  0.87  0.87\n",
      "  1800  0.88  0.86\n",
      "  1900  0.88  0.86\n",
      "  2000  0.88  0.86\n",
      "  2100  0.88  0.87\n",
      "  2200  0.89  0.87\n",
      "  2300  0.91  0.87\n",
      "  2400  0.90  0.87\n",
      "  2500  0.90  0.86\n",
      "  2600  0.91  0.87\n",
      "  2700  0.91  0.87\n",
      "  2800  0.91  0.86\n",
      "  2900  0.90  0.86\n",
      "  3000  0.91  0.87\n",
      "  3100  0.92  0.88\n",
      "  3200  0.91  0.88\n",
      "  3300  0.92  0.88\n",
      "  3400  0.91  0.87\n",
      "  3500  0.92  0.87\n",
      "  3600  0.90  0.88\n",
      "  3700  0.91  0.87\n",
      "  3800  0.92  0.88\n",
      "  3900  0.91  0.88\n",
      "  4000  0.92  0.87\n",
      "  4100  0.91  0.88\n",
      "  4200  0.93  0.87\n",
      "  4300  0.91  0.87\n",
      "  4400  0.92  0.88\n",
      "  4500  0.95  0.87\n",
      "  4600  0.93  0.88\n",
      "  4700  0.93  0.88\n",
      "  4800  0.93  0.86\n",
      "  4900  0.91  0.88\n",
      "  5000  0.94  0.87\n",
      "  5100  0.93  0.87\n",
      "  5200  0.93  0.87\n",
      "  5300  0.93  0.87\n",
      "  5400  0.93  0.88\n",
      "  5500  0.92  0.87\n",
      "  5600  0.95  0.87\n",
      "  5700  0.93  0.87\n",
      "  5800  0.91  0.87\n",
      "  5900  0.94  0.88\n",
      "  6000  0.94  0.88\n",
      "  6100  0.95  0.87\n",
      "  6200  0.92  0.87\n",
      "  6300  0.93  0.87\n",
      "  6400  0.94  0.88\n",
      "  6500  0.93  0.88\n",
      "  6600  0.94  0.88\n",
      "  6700  0.94  0.87\n",
      "  6800  0.95  0.88\n",
      "  6900  0.94  0.88\n",
      "  7000  0.93  0.88\n",
      "  7100  0.93  0.88\n",
      "  7200  0.94  0.88\n",
      "  7300  0.95  0.87\n",
      "  7400  0.94  0.88\n",
      "  7500  0.95  0.88\n",
      "  7600  0.95  0.88\n",
      "  7700  0.95  0.87\n",
      "  7800  0.96  0.88\n",
      "  7900  0.94  0.87\n",
      "  8000  0.97  0.88\n",
      "  8100  0.95  0.87\n",
      "  8200  0.96  0.88\n",
      "  8300  0.95  0.88\n",
      "  8400  0.94  0.88\n",
      "  8500  0.95  0.88\n",
      "  8600  0.96  0.87\n",
      "  8700  0.95  0.88\n",
      "  8800  0.95  0.87\n",
      "  8900  0.96  0.87\n",
      "  9000  0.95  0.87\n",
      "  9100  0.95  0.87\n",
      "  9200  0.96  0.87\n",
      "  9300  0.95  0.88\n",
      "  9400  0.95  0.87\n",
      "  9500  0.96  0.87\n",
      "  9600  0.95  0.88\n",
      "  9700  0.97  0.88\n",
      "  9800  0.95  0.88\n",
      "  9900  0.96  0.87\n"
     ]
    },
    {
     "data": {
      "image/png": "[encoded data removed]",
      "text/plain": [
       "<matplotlib.figure.Figure at 0x291177f2e8>"
      ]
     },
     "metadata": {},
     "output_type": "display_data"
    },
    {
     "data": {
      "image/png": "[encoded data removed]",
      "text/plain": [
       "<matplotlib.figure.Figure at 0x291172b630>"
      ]
     },
     "metadata": {},
     "output_type": "display_data"
    }
   ],
   "source": [
    "three_layer = ThreeLayerNN(200, 100)\n",
    "optimizer_three_layer = torch.optim.Adam(three_layer.parameters(), lr=0.001)\n",
    "runModel(three_layer, 32, 10000, optimizer_three_layer)"
   ]
  },
  {
   "cell_type": "code",
   "execution_count": 109,
   "metadata": {
    "scrolled": true
   },
   "outputs": [
    {
     "name": "stdout",
     "output_type": "stream",
     "text": [
      "     0  0.22  0.21\n",
      "   100  0.76  0.78\n",
      "   200  0.81  0.79\n",
      "   300  0.81  0.81\n",
      "   400  0.81  0.82\n",
      "   500  0.82  0.82\n",
      "   600  0.80  0.82\n",
      "   700  0.84  0.83\n",
      "   800  0.84  0.84\n",
      "   900  0.85  0.84\n",
      "  1000  0.85  0.84\n",
      "  1100  0.86  0.84\n",
      "  1200  0.85  0.85\n",
      "  1300  0.85  0.84\n",
      "  1400  0.85  0.84\n",
      "  1500  0.86  0.85\n",
      "  1600  0.86  0.86\n",
      "  1700  0.90  0.86\n",
      "  1800  0.88  0.85\n",
      "  1900  0.88  0.86\n",
      "  2000  0.89  0.85\n",
      "  2100  0.88  0.86\n",
      "  2200  0.88  0.86\n",
      "  2300  0.90  0.86\n",
      "  2400  0.88  0.86\n",
      "  2500  0.89  0.86\n",
      "  2600  0.89  0.87\n",
      "  2700  0.88  0.87\n",
      "  2800  0.91  0.86\n",
      "  2900  0.91  0.87\n",
      "  3000  0.89  0.87\n",
      "  3100  0.91  0.86\n",
      "  3200  0.92  0.87\n",
      "  3300  0.91  0.86\n",
      "  3400  0.90  0.87\n",
      "  3500  0.90  0.87\n",
      "  3600  0.90  0.86\n",
      "  3700  0.92  0.86\n",
      "  3800  0.90  0.87\n",
      "  3900  0.90  0.87\n",
      "  4000  0.89  0.87\n",
      "  4100  0.92  0.86\n",
      "  4200  0.91  0.87\n",
      "  4300  0.89  0.87\n",
      "  4400  0.91  0.87\n",
      "  4500  0.91  0.87\n",
      "  4600  0.92  0.87\n",
      "  4700  0.92  0.86\n",
      "  4800  0.92  0.87\n",
      "  4900  0.93  0.87\n",
      "  5000  0.93  0.87\n",
      "  5100  0.93  0.87\n",
      "  5200  0.93  0.87\n",
      "  5300  0.93  0.87\n",
      "  5400  0.93  0.87\n",
      "  5500  0.92  0.87\n",
      "  5600  0.93  0.87\n",
      "  5700  0.93  0.87\n",
      "  5800  0.94  0.87\n",
      "  5900  0.93  0.87\n",
      "  6000  0.94  0.87\n",
      "  6100  0.94  0.88\n",
      "  6200  0.93  0.87\n",
      "  6300  0.94  0.88\n",
      "  6400  0.93  0.88\n",
      "  6500  0.94  0.87\n",
      "  6600  0.94  0.87\n",
      "  6700  0.93  0.87\n",
      "  6800  0.93  0.87\n",
      "  6900  0.93  0.87\n",
      "  7000  0.93  0.87\n",
      "  7100  0.94  0.87\n",
      "  7200  0.94  0.87\n",
      "  7300  0.93  0.87\n",
      "  7400  0.95  0.87\n",
      "  7500  0.95  0.87\n",
      "  7600  0.94  0.87\n",
      "  7700  0.94  0.87\n",
      "  7800  0.94  0.87\n",
      "  7900  0.94  0.87\n",
      "  8000  0.96  0.87\n",
      "  8100  0.92  0.87\n",
      "  8200  0.94  0.87\n",
      "  8300  0.95  0.87\n",
      "  8400  0.94  0.87\n",
      "  8500  0.93  0.87\n",
      "  8600  0.95  0.87\n",
      "  8700  0.95  0.87\n",
      "  8800  0.95  0.87\n",
      "  8900  0.94  0.86\n",
      "  9000  0.93  0.87\n",
      "  9100  0.95  0.87\n",
      "  9200  0.95  0.88\n",
      "  9300  0.95  0.87\n",
      "  9400  0.95  0.88\n",
      "  9500  0.96  0.87\n",
      "  9600  0.94  0.87\n",
      "  9700  0.95  0.87\n",
      "  9800  0.97  0.87\n",
      "  9900  0.96  0.87\n"
     ]
    },
    {
     "data": {
      "image/png": "[encoded data removed]",
      "text/plain": [
       "<matplotlib.figure.Figure at 0x2913372ba8>"
      ]
     },
     "metadata": {},
     "output_type": "display_data"
    },
    {
     "data": {
      "image/png": "[encoded data removed]",
      "text/plain": [
       "<matplotlib.figure.Figure at 0x2913322b38>"
      ]
     },
     "metadata": {},
     "output_type": "display_data"
    }
   ],
   "source": [
    "four_layer = FourLayerNN(200, 100, 50)\n",
    "optimizer_four_layer = torch.optim.Adam(four_layer.parameters(), lr=0.001)\n",
    "runModel(four_layer, 32, 10000, optimizer_four_layer)"
   ]
  },
  {
   "cell_type": "code",
   "execution_count": 126,
   "metadata": {
    "scrolled": true
   },
   "outputs": [
    {
     "name": "stdout",
     "output_type": "stream",
     "text": [
      "     0  0.38  0.36\n",
      "   100  0.77  0.77\n",
      "   200  0.77  0.78\n",
      "   300  0.81  0.80\n",
      "   400  0.81  0.81\n",
      "   500  0.82  0.81\n",
      "   600  0.83  0.82\n",
      "   700  0.83  0.82\n",
      "   800  0.79  0.82\n",
      "   900  0.83  0.83\n",
      "  1000  0.83  0.83\n",
      "  1100  0.83  0.83\n",
      "  1200  0.83  0.84\n",
      "  1300  0.84  0.84\n",
      "  1400  0.86  0.84\n",
      "  1500  0.85  0.84\n",
      "  1600  0.85  0.85\n",
      "  1700  0.86  0.84\n",
      "  1800  0.85  0.85\n",
      "  1900  0.86  0.84\n",
      "  2000  0.85  0.85\n",
      "  2100  0.87  0.85\n",
      "  2200  0.85  0.85\n",
      "  2300  0.86  0.85\n",
      "  2400  0.87  0.85\n",
      "  2500  0.86  0.85\n",
      "  2600  0.86  0.85\n",
      "  2700  0.86  0.85\n",
      "  2800  0.88  0.86\n",
      "  2900  0.88  0.85\n",
      "  3000  0.87  0.85\n",
      "  3100  0.88  0.86\n",
      "  3200  0.88  0.86\n",
      "  3300  0.88  0.86\n",
      "  3400  0.89  0.86\n",
      "  3500  0.86  0.86\n",
      "  3600  0.88  0.86\n",
      "  3700  0.88  0.86\n",
      "  3800  0.89  0.86\n",
      "  3900  0.89  0.86\n",
      "  4000  0.90  0.86\n",
      "  4100  0.88  0.86\n",
      "  4200  0.89  0.86\n",
      "  4300  0.90  0.87\n",
      "  4400  0.88  0.86\n",
      "  4500  0.88  0.86\n",
      "  4600  0.88  0.86\n",
      "  4700  0.89  0.86\n",
      "  4800  0.88  0.86\n",
      "  4900  0.88  0.86\n",
      "  5000  0.90  0.86\n",
      "  5100  0.90  0.86\n",
      "  5200  0.89  0.87\n",
      "  5300  0.89  0.87\n",
      "  5400  0.90  0.86\n",
      "  5500  0.89  0.87\n",
      "  5600  0.90  0.87\n",
      "  5700  0.89  0.87\n",
      "  5800  0.88  0.87\n",
      "  5900  0.90  0.87\n",
      "  6000  0.89  0.87\n",
      "  6100  0.91  0.87\n",
      "  6200  0.90  0.87\n",
      "  6300  0.90  0.87\n",
      "  6400  0.89  0.87\n",
      "  6500  0.91  0.87\n",
      "  6600  0.88  0.87\n",
      "  6700  0.89  0.87\n",
      "  6800  0.89  0.87\n",
      "  6900  0.92  0.87\n",
      "  7000  0.92  0.87\n",
      "  7100  0.90  0.87\n",
      "  7200  0.91  0.87\n",
      "  7300  0.89  0.87\n",
      "  7400  0.90  0.87\n",
      "  7500  0.90  0.88\n",
      "  7600  0.88  0.87\n",
      "  7700  0.90  0.87\n",
      "  7800  0.92  0.87\n",
      "  7900  0.91  0.87\n",
      "  8000  0.91  0.86\n",
      "  8100  0.90  0.87\n",
      "  8200  0.90  0.87\n",
      "  8300  0.91  0.86\n",
      "  8400  0.90  0.86\n",
      "  8500  0.90  0.87\n",
      "  8600  0.89  0.87\n",
      "  8700  0.89  0.86\n",
      "  8800  0.93  0.87\n",
      "  8900  0.90  0.86\n",
      "  9000  0.92  0.87\n",
      "  9100  0.89  0.87\n",
      "  9200  0.92  0.87\n",
      "  9300  0.91  0.87\n",
      "  9400  0.89  0.87\n",
      "  9500  0.91  0.87\n",
      "  9600  0.91  0.87\n",
      "  9700  0.91  0.88\n",
      "  9800  0.91  0.87\n",
      "  9900  0.91  0.87\n"
     ]
    },
    {
     "data": {
      "image/png": "[encoded data removed]",
      "text/plain": [
       "<matplotlib.figure.Figure at 0x29128d50f0>"
      ]
     },
     "metadata": {},
     "output_type": "display_data"
    },
    {
     "data": {
      "image/png": "[encoded data removed]",
      "text/plain": [
       "<matplotlib.figure.Figure at 0x291173fd30>"
      ]
     },
     "metadata": {},
     "output_type": "display_data"
    }
   ],
   "source": [
    "two_layer = TwoLayerNN(100) #using dropout at 0.3\n",
    "optimizer_two_layer = torch.optim.Adam(two_layer.parameters(), lr=0.001)\n",
    "runModel(two_layer, 32, 10000, optimizer_two_layer)"
   ]
  },
  {
   "cell_type": "code",
   "execution_count": 141,
   "metadata": {
    "scrolled": true
   },
   "outputs": [
    {
     "name": "stdout",
     "output_type": "stream",
     "text": [
      "     0  0.39  0.38\n",
      "   100  0.77  0.79\n",
      "   200  0.78  0.80\n",
      "   300  0.80  0.82\n",
      "   400  0.80  0.83\n",
      "   500  0.84  0.83\n",
      "   600  0.84  0.84\n",
      "   700  0.86  0.84\n",
      "   800  0.84  0.84\n",
      "   900  0.89  0.85\n",
      "  1000  0.86  0.86\n",
      "  1100  0.86  0.85\n",
      "  1200  0.89  0.86\n",
      "  1300  0.88  0.86\n",
      "  1400  0.88  0.86\n",
      "  1500  0.87  0.87\n",
      "  1600  0.87  0.86\n",
      "  1700  0.87  0.87\n",
      "  1800  0.89  0.86\n",
      "  1900  0.90  0.86\n",
      "  2000  0.90  0.87\n",
      "  2100  0.90  0.87\n",
      "  2200  0.88  0.87\n",
      "  2300  0.90  0.87\n",
      "  2400  0.88  0.87\n",
      "  2500  0.89  0.87\n",
      "  2600  0.90  0.88\n",
      "  2700  0.90  0.87\n",
      "  2800  0.90  0.87\n",
      "  2900  0.89  0.87\n",
      "  3000  0.90  0.87\n",
      "  3100  0.90  0.87\n",
      "  3200  0.91  0.87\n",
      "  3300  0.90  0.87\n",
      "  3400  0.91  0.87\n",
      "  3500  0.92  0.87\n",
      "  3600  0.92  0.87\n",
      "  3700  0.91  0.86\n",
      "  3800  0.93  0.87\n",
      "  3900  0.92  0.87\n",
      "  4000  0.93  0.88\n",
      "  4100  0.92  0.88\n",
      "  4200  0.93  0.88\n",
      "  4300  0.92  0.87\n",
      "  4400  0.92  0.87\n",
      "  4500  0.93  0.87\n",
      "  4600  0.92  0.88\n",
      "  4700  0.92  0.88\n",
      "  4800  0.94  0.87\n",
      "  4900  0.92  0.88\n",
      "  5000  0.92  0.87\n",
      "  5100  0.93  0.88\n",
      "  5200  0.92  0.88\n",
      "  5300  0.92  0.87\n",
      "  5400  0.92  0.87\n",
      "  5500  0.91  0.87\n",
      "  5600  0.91  0.87\n",
      "  5700  0.94  0.87\n",
      "  5800  0.93  0.87\n",
      "  5900  0.94  0.88\n",
      "  6000  0.93  0.88\n",
      "  6100  0.93  0.87\n",
      "  6200  0.93  0.88\n",
      "  6300  0.94  0.87\n",
      "  6400  0.94  0.87\n",
      "  6500  0.94  0.87\n",
      "  6600  0.94  0.87\n",
      "  6700  0.93  0.88\n",
      "  6800  0.94  0.87\n",
      "  6900  0.94  0.88\n",
      "  7000  0.95  0.87\n",
      "  7100  0.93  0.87\n",
      "  7200  0.94  0.87\n",
      "  7300  0.94  0.87\n",
      "  7400  0.94  0.87\n",
      "  7500  0.95  0.88\n",
      "  7600  0.95  0.87\n",
      "  7700  0.95  0.87\n",
      "  7800  0.94  0.87\n",
      "  7900  0.96  0.87\n",
      "  8000  0.95  0.87\n",
      "  8100  0.95  0.87\n",
      "  8200  0.95  0.87\n",
      "  8300  0.95  0.87\n",
      "  8400  0.95  0.87\n",
      "  8500  0.95  0.88\n",
      "  8600  0.94  0.88\n",
      "  8700  0.95  0.87\n",
      "  8800  0.95  0.88\n",
      "  8900  0.95  0.87\n",
      "  9000  0.96  0.87\n",
      "  9100  0.95  0.87\n",
      "  9200  0.95  0.87\n",
      "  9300  0.95  0.87\n",
      "  9400  0.96  0.87\n",
      "  9500  0.95  0.88\n",
      "  9600  0.95  0.87\n",
      "  9700  0.96  0.87\n",
      "  9800  0.95  0.87\n",
      "  9900  0.95  0.87\n"
     ]
    },
    {
     "data": {
      "image/png": "[encoded data removed]",
      "text/plain": [
       "<matplotlib.figure.Figure at 0x2912927828>"
      ]
     },
     "metadata": {},
     "output_type": "display_data"
    },
    {
     "data": {
      "image/png": "[encoded data removed]",
      "text/plain": [
       "<matplotlib.figure.Figure at 0x2911693f60>"
      ]
     },
     "metadata": {},
     "output_type": "display_data"
    },
    {
     "name": "stdout",
     "output_type": "stream",
     "text": [
      "76.86335039138794\n"
     ]
    }
   ],
   "source": [
    "start = time.time()\n",
    "two_layer = TwoLayerNN(200) #using dropout at 0.3\n",
    "optimizer_two_layer = torch.optim.Adam(two_layer.parameters(), lr=0.001)\n",
    "runModel(two_layer, 65, 10000, optimizer_two_layer)\n",
    "end = time.time()\n",
    "print(end - start)"
   ]
  },
  {
   "cell_type": "markdown",
   "metadata": {},
   "source": [
    "Best validation accuracy achieved was 88. This was using my two layer neural net with 200 units, learning rate of 0.001 using Adam optimizer, 10k optimization steps, and 65 batch size. This was also run with a dropout before the second layer with probability 0.3 and using multi hinge loss instead of cross entropy loss. The total time was about 76 seconds."
   ]
  }
 ],
 "metadata": {
  "kernelspec": {
   "display_name": "Python 3",
   "language": "python",
   "name": "python3"
  },
  "language_info": {
   "codemirror_mode": {
    "name": "ipython",
    "version": 3
   },
   "file_extension": ".py",
   "mimetype": "text/x-python",
   "name": "python",
   "nbconvert_exporter": "python",
   "pygments_lexer": "ipython3",
   "version": "3.6.1"
  }
 },
 "nbformat": 4,
 "nbformat_minor": 2
}
