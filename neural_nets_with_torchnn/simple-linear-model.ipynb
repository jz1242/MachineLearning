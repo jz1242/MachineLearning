{
 "cells": [
  {
   "cell_type": "code",
   "execution_count": 166,
   "metadata": {
    "collapsed": true
   },
   "outputs": [],
   "source": [
    "%matplotlib inline\n",
    "import matplotlib.pyplot as plt\n",
    "import numpy as np\n",
    "import torch\n",
    "from torch import autograd\n",
    "import torch.nn.functional as F\n",
    "\n",
    "images = np.load(\"D:/work/JHUschoolStuff/machinelearning/project1/cs475_project_data/images.npy\")\n",
    "labels = np.load(\"D:/work/JHUschoolStuff/machinelearning/project1/cs475_project_data/labels.npy\")\n",
    "test = np.load(\"D:/work/JHUschoolStuff/machinelearning/project1/cs475_project_data/test_images.npy\")\n",
    "height = images.shape[1]\n",
    "width = images.shape[2]\n",
    "size = height * width\n",
    "images = (images - images.mean()) / images.std()\n",
    "data = images.reshape(images.shape[0],size)\n",
    "test_data = test.reshape(test.shape[0], size)\n",
    "test_data = (test_data - test_data.mean()) / test_data.std()\n",
    "batch_size = 1\n",
    "NUM_OPT_STEPS = 5000\n",
    "train_seqs = data[0:45000,:]\n",
    "train_labels = labels[0:45000]\n",
    "val_seqs = data[45000:,:]\n",
    "val_labels = labels[45000:]"
   ]
  },
  {
   "cell_type": "code",
   "execution_count": 167,
   "metadata": {},
   "outputs": [],
   "source": [
    "class LinearModel(torch.nn.Module):\n",
    "    def __init__(self):\n",
    "        super().__init__()\n",
    "        self.linear = torch.nn.Linear(height * width, 5)\n",
    "    def forward(self, x):\n",
    "        x = self.linear(x)\n",
    "        return x"
   ]
  },
  {
   "cell_type": "markdown",
   "metadata": {},
   "source": [
    "From the documentation, torch.nn.Linear creates \"in features * out features\" number of weights and \"out features\" number of biases(which are booleans). In our case our number of in features is 26*26 = 676 and our number of out features is 5. Therefore the number of weights we have is 676*5 and the number of biases will be 5. This makes sense because our input is a vector of 676 and we have 5 different classes to predict and therefore we would need at least 676*5 weights to compute our prediction, and a bias associated with each prediction."
   ]
  },
  {
   "cell_type": "code",
   "execution_count": 168,
   "metadata": {},
   "outputs": [],
   "source": [
    "model = LinearModel()\n",
    "optimizer = torch.optim.SGD(model.parameters(), lr=1e-6)"
   ]
  },
  {
   "cell_type": "markdown",
   "metadata": {},
   "source": [
    "In our previous homeworks we implemented were torch.nn.SGD and torch.nn.Adam, which are the stochastic gradient descent and Adam optimizations. The two most important arguments these optimizers need us to provide are the model parameters themselves and the rate of update. These two allow us to update the weights of our model with a provided rate."
   ]
  },
  {
   "cell_type": "code",
   "execution_count": 169,
   "metadata": {
    "collapsed": true
   },
   "outputs": [],
   "source": [
    "def train(batch_size):\n",
    "    # model.train() puts our model in train mode, which can require different\n",
    "    # behavior than eval mode (for example in the case of dropout).\n",
    "    model.train()\n",
    "    # i is is a 1-D array with shape [batch_size]\n",
    "    i = np.random.choice(train_seqs.shape[0], size=batch_size, replace=False)\n",
    "    x = autograd.Variable(torch.from_numpy(train_seqs[i].astype(np.float32)))\n",
    "    y = autograd.Variable(torch.from_numpy(train_labels[i].astype(np.int))).long()\n",
    "    optimizer.zero_grad()\n",
    "    y_hat_ = model(x)\n",
    "    loss = F.cross_entropy(y_hat_, y)\n",
    "    loss.backward()\n",
    "    optimizer.step()\n",
    "    return loss.data[0]\n"
   ]
  },
  {
   "cell_type": "code",
   "execution_count": 170,
   "metadata": {},
   "outputs": [],
   "source": [
    "def approx_train_accuracy(model):\n",
    "    i = np.random.choice(train_seqs.shape[0], size=1000, replace=False)\n",
    "    x = autograd.Variable(torch.from_numpy(train_seqs[i].astype(np.float32)))\n",
    "    y = autograd.Variable(torch.from_numpy(train_labels[i].astype(np.int)))\n",
    "    y_hat_ = model(x)\n",
    "    y_hat = np.zeros(1000)\n",
    "    for i in range(1000):\n",
    "        score = y_hat_[i,:]\n",
    "        y_hat[i] = torch.max(score.data, 0)[1][0]\n",
    "    return accuracy(y_hat, y.data.numpy())"
   ]
  },
  {
   "cell_type": "code",
   "execution_count": 171,
   "metadata": {
    "collapsed": true
   },
   "outputs": [],
   "source": [
    "def val_accuracy(model):\n",
    "    x = autograd.Variable(torch.from_numpy(val_seqs.astype(np.float32)))\n",
    "    y = autograd.Variable(torch.from_numpy(val_labels.astype(np.int)))\n",
    "    y_hat_ = model(x)\n",
    "    y_hat = np.zeros(5000)\n",
    "    for i in range(5000):\n",
    "        score = y_hat_[i,:]\n",
    "        y_hat[i] = torch.max(score.data, 0)[1][0]\n",
    "    return accuracy(y_hat, y.data.numpy())"
   ]
  },
  {
   "cell_type": "code",
   "execution_count": 172,
   "metadata": {
    "collapsed": true
   },
   "outputs": [],
   "source": [
    "def accuracy(y, y_hat):\n",
    "    return (y == y_hat).astype(np.float).mean()"
   ]
  },
  {
   "cell_type": "code",
   "execution_count": 173,
   "metadata": {},
   "outputs": [],
   "source": [
    "def plot(train_accs, val_accs):\n",
    "    plt.figure(200)\n",
    "    plt.title('Training Accuracy')\n",
    "    plt.xlabel('Iteration')\n",
    "    plt.ylabel('Accuracy')\n",
    "    plt.plot(train_accs, 'b')\n",
    "    plt.show()\n",
    "    plt.figure(300)\n",
    "    plt.title('Validation Accuracy')\n",
    "    plt.xlabel('Iteration')\n",
    "    plt.ylabel('Accuracy')   \n",
    "    plt.plot(val_accs, 'b')\n",
    "    plt.show()"
   ]
  },
  {
   "cell_type": "code",
   "execution_count": 174,
   "metadata": {
    "scrolled": false
   },
   "outputs": [],
   "source": [
    "def runModel(model, batch_size):\n",
    "    train_accs, val_accs = [], []\n",
    "    for i in range(NUM_OPT_STEPS):\n",
    "        train(batch_size)\n",
    "        if i % 100 == 0:\n",
    "            train_accs.append(approx_train_accuracy(model))\n",
    "            val_accs.append(val_accuracy(model))\n",
    "            print(\"%6d %5.2f %5.2f\" % (i, train_accs[-1], val_accs[-1]))\n",
    "    plot(train_accs, val_accs)"
   ]
  },
  {
   "cell_type": "code",
   "execution_count": 175,
   "metadata": {
    "scrolled": true
   },
   "outputs": [
    {
     "name": "stdout",
     "output_type": "stream",
     "text": [
      "     0  0.13  0.13\n",
      "   100  0.14  0.13\n",
      "   200  0.12  0.13\n",
      "   300  0.12  0.13\n",
      "   400  0.14  0.13\n",
      "   500  0.14  0.13\n",
      "   600  0.14  0.13\n",
      "   700  0.14  0.13\n",
      "   800  0.14  0.13\n",
      "   900  0.12  0.14\n",
      "  1000  0.13  0.14\n",
      "  1100  0.14  0.14\n",
      "  1200  0.15  0.14\n",
      "  1300  0.16  0.14\n",
      "  1400  0.14  0.14\n",
      "  1500  0.14  0.14\n",
      "  1600  0.13  0.14\n",
      "  1700  0.13  0.14\n",
      "  1800  0.14  0.14\n",
      "  1900  0.13  0.14\n",
      "  2000  0.15  0.14\n",
      "  2100  0.15  0.14\n",
      "  2200  0.15  0.14\n",
      "  2300  0.11  0.14\n",
      "  2400  0.13  0.14\n",
      "  2500  0.15  0.14\n",
      "  2600  0.16  0.14\n",
      "  2700  0.13  0.14\n",
      "  2800  0.14  0.14\n",
      "  2900  0.15  0.14\n",
      "  3000  0.14  0.14\n",
      "  3100  0.14  0.14\n",
      "  3200  0.14  0.14\n",
      "  3300  0.13  0.14\n",
      "  3400  0.15  0.14\n",
      "  3500  0.16  0.14\n",
      "  3600  0.14  0.15\n",
      "  3700  0.15  0.15\n",
      "  3800  0.12  0.15\n",
      "  3900  0.14  0.15\n",
      "  4000  0.14  0.15\n",
      "  4100  0.18  0.15\n",
      "  4200  0.16  0.15\n",
      "  4300  0.17  0.15\n",
      "  4400  0.16  0.15\n",
      "  4500  0.16  0.15\n",
      "  4600  0.16  0.15\n",
      "  4700  0.15  0.15\n",
      "  4800  0.15  0.15\n",
      "  4900  0.16  0.15\n"
     ]
    },
    {
     "data": {
      "image/png": "[encoded data removed]",
      "text/plain": [
       "<matplotlib.figure.Figure at 0x4b800e1c50>"
      ]
     },
     "metadata": {},
     "output_type": "display_data"
    },
    {
     "data": {
      "image/png": "[encoded data removed]",
      "text/plain": [
       "<matplotlib.figure.Figure at 0x4b8002fdd8>"
      ]
     },
     "metadata": {},
     "output_type": "display_data"
    }
   ],
   "source": [
    "runModel(model, 1)"
   ]
  },
  {
   "cell_type": "markdown",
   "metadata": {},
   "source": [
    "The top train and validation accuracies we reached were 0.32 for training and 0.31 for validation. The problem here is that we may not have the best hyperparameters for our model. Our learning rate could have been too small which means that our model was not making enough progress toward an optima within our 5k optimization steps."
   ]
  },
  {
   "cell_type": "code",
   "execution_count": 176,
   "metadata": {
    "collapsed": true
   },
   "outputs": [],
   "source": [
    "model = LinearModel()\n",
    "optimizer = torch.optim.Adam(model.parameters(), lr=0.001)"
   ]
  },
  {
   "cell_type": "code",
   "execution_count": 177,
   "metadata": {
    "scrolled": true
   },
   "outputs": [
    {
     "name": "stdout",
     "output_type": "stream",
     "text": [
      "     0  0.20  0.17\n",
      "   100  0.59  0.62\n",
      "   200  0.65  0.65\n",
      "   300  0.67  0.66\n",
      "   400  0.67  0.68\n",
      "   500  0.71  0.71\n",
      "   600  0.71  0.72\n",
      "   700  0.72  0.72\n",
      "   800  0.73  0.73\n",
      "   900  0.72  0.73\n",
      "  1000  0.72  0.73\n",
      "  1100  0.73  0.72\n",
      "  1200  0.76  0.73\n",
      "  1300  0.72  0.73\n",
      "  1400  0.69  0.70\n",
      "  1500  0.71  0.73\n",
      "  1600  0.70  0.72\n",
      "  1700  0.69  0.70\n",
      "  1800  0.72  0.74\n",
      "  1900  0.72  0.72\n",
      "  2000  0.70  0.73\n",
      "  2100  0.70  0.74\n",
      "  2200  0.73  0.73\n",
      "  2300  0.71  0.71\n",
      "  2400  0.71  0.73\n",
      "  2500  0.68  0.71\n",
      "  2600  0.71  0.74\n",
      "  2700  0.75  0.74\n",
      "  2800  0.75  0.75\n",
      "  2900  0.74  0.75\n",
      "  3000  0.71  0.76\n",
      "  3100  0.74  0.75\n",
      "  3200  0.72  0.71\n",
      "  3300  0.72  0.71\n",
      "  3400  0.74  0.74\n",
      "  3500  0.70  0.73\n",
      "  3600  0.71  0.73\n",
      "  3700  0.69  0.70\n",
      "  3800  0.73  0.74\n",
      "  3900  0.75  0.73\n",
      "  4000  0.73  0.73\n",
      "  4100  0.73  0.74\n",
      "  4200  0.73  0.74\n",
      "  4300  0.74  0.74\n",
      "  4400  0.72  0.73\n",
      "  4500  0.74  0.73\n",
      "  4600  0.73  0.72\n",
      "  4700  0.73  0.72\n",
      "  4800  0.72  0.69\n",
      "  4900  0.72  0.71\n"
     ]
    },
    {
     "data": {
      "image/png": "[encoded data removed]",
      "text/plain": [
       "<matplotlib.figure.Figure at 0x4b803b9898>"
      ]
     },
     "metadata": {},
     "output_type": "display_data"
    },
    {
     "data": {
      "image/png": "[encoded data removed]",
      "text/plain": [
       "<matplotlib.figure.Figure at 0x4b8030ca20>"
      ]
     },
     "metadata": {},
     "output_type": "display_data"
    }
   ],
   "source": [
    "runModel(model, 1)"
   ]
  },
  {
   "cell_type": "markdown",
   "metadata": {},
   "source": [
    "The final optimizer used was the Adam optimizer with a learning rate of 0.001. This lead to an accuracy in the mid 70s. The best validation accuracy achieved was 76."
   ]
  }
 ],
 "metadata": {
  "kernelspec": {
   "display_name": "Python 3",
   "language": "python",
   "name": "python3"
  },
  "language_info": {
   "codemirror_mode": {
    "name": "ipython",
    "version": 3
   },
   "file_extension": ".py",
   "mimetype": "text/x-python",
   "name": "python",
   "nbconvert_exporter": "python",
   "pygments_lexer": "ipython3",
   "version": "3.6.1"
  }
 },
 "nbformat": 4,
 "nbformat_minor": 2
}
