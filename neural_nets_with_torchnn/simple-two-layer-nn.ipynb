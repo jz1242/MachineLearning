{
 "cells": [
  {
   "cell_type": "code",
   "execution_count": 20,
   "metadata": {
    "collapsed": true
   },
   "outputs": [],
   "source": [
    "%matplotlib inline\n",
    "import matplotlib.pyplot as plt\n",
    "import numpy as np\n",
    "import torch\n",
    "from torch import autograd\n",
    "import torch.nn.functional as F\n",
    "import time\n",
    "\n",
    "images = np.load(\"D:/work/JHUschoolStuff/machinelearning/project1/cs475_project_data/images.npy\")\n",
    "labels = np.load(\"D:/work/JHUschoolStuff/machinelearning/project1/cs475_project_data/labels.npy\")\n",
    "test = np.load(\"D:/work/JHUschoolStuff/machinelearning/project1/cs475_project_data/test_images.npy\")\n",
    "height = images.shape[1]\n",
    "width = images.shape[2]\n",
    "size = height * width\n",
    "images = (images - images.mean()) / images.std()\n",
    "data = images.reshape(images.shape[0],size)\n",
    "test_data = test.reshape(test.shape[0], size)\n",
    "test_data = (test_data - test_data.mean()) / test_data.std()\n",
    "NUM_OPT_STEPS = 5000\n",
    "train_seqs = data[0:45000,:]\n",
    "train_labels = labels[0:45000]\n",
    "val_seqs = data[45000:,:]\n",
    "val_labels = labels[45000:]"
   ]
  },
  {
   "cell_type": "code",
   "execution_count": 2,
   "metadata": {
    "collapsed": true
   },
   "outputs": [],
   "source": [
    "class TwoLayerNN(torch.nn.Module):\n",
    "    def __init__(self):\n",
    "        super().__init__()\n",
    "        self.layer_1 = torch.nn.Linear(height * width, 100)\n",
    "        self.layer_2 = torch.nn.Linear(100, 5)\n",
    "    def forward(self, x):\n",
    "        x = self.layer_1(x)\n",
    "        y = F.relu(x)\n",
    "        z = self.layer_2(y)\n",
    "        return z"
   ]
  },
  {
   "cell_type": "code",
   "execution_count": 3,
   "metadata": {
    "collapsed": true
   },
   "outputs": [],
   "source": [
    "model = TwoLayerNN()\n",
    "optimizer = torch.optim.Adam(model.parameters(), lr=0.001)"
   ]
  },
  {
   "cell_type": "code",
   "execution_count": 4,
   "metadata": {
    "collapsed": true
   },
   "outputs": [],
   "source": [
    "def train(batch_size):\n",
    "    # model.train() puts our model in train mode, which can require different\n",
    "    # behavior than eval mode (for example in the case of dropout).\n",
    "    model.train()\n",
    "    # i is is a 1-D array with shape [batch_size]\n",
    "    i = np.random.choice(train_seqs.shape[0], size=batch_size, replace=False)\n",
    "    x = autograd.Variable(torch.from_numpy(train_seqs[i].astype(np.float32)))\n",
    "    y = autograd.Variable(torch.from_numpy(train_labels[i].astype(np.int))).long()\n",
    "    optimizer.zero_grad()\n",
    "    y_hat_ = model(x)\n",
    "    loss = F.cross_entropy(y_hat_, y)\n",
    "    loss.backward()\n",
    "    optimizer.step()\n",
    "    return loss.data[0]\n"
   ]
  },
  {
   "cell_type": "code",
   "execution_count": 5,
   "metadata": {
    "collapsed": true
   },
   "outputs": [],
   "source": [
    "def approx_train_accuracy(model):\n",
    "    i = np.random.choice(train_seqs.shape[0], size=1000, replace=False)\n",
    "    x = autograd.Variable(torch.from_numpy(train_seqs[i].astype(np.float32)))\n",
    "    y = autograd.Variable(torch.from_numpy(train_labels[i].astype(np.int)))\n",
    "    y_hat_ = model(x)\n",
    "    y_hat = np.zeros(1000)\n",
    "    for i in range(1000):\n",
    "        score = y_hat_[i,:]\n",
    "        y_hat[i] = torch.max(score.data, 0)[1][0]\n",
    "    return accuracy(y_hat, y.data.numpy())"
   ]
  },
  {
   "cell_type": "code",
   "execution_count": 6,
   "metadata": {
    "collapsed": true
   },
   "outputs": [],
   "source": [
    "def val_accuracy(model):\n",
    "    x = autograd.Variable(torch.from_numpy(val_seqs.astype(np.float32)))\n",
    "    y = autograd.Variable(torch.from_numpy(val_labels.astype(np.int)))\n",
    "    y_hat_ = model(x)\n",
    "    y_hat = np.zeros(5000)\n",
    "    for i in range(5000):\n",
    "        score = y_hat_[i,:]\n",
    "        y_hat[i] = torch.max(score.data, 0)[1][0]\n",
    "    return accuracy(y_hat, y.data.numpy())"
   ]
  },
  {
   "cell_type": "code",
   "execution_count": 7,
   "metadata": {
    "collapsed": true
   },
   "outputs": [],
   "source": [
    "def accuracy(y, y_hat):\n",
    "    return (y == y_hat).astype(np.float).mean()"
   ]
  },
  {
   "cell_type": "code",
   "execution_count": 8,
   "metadata": {
    "collapsed": true
   },
   "outputs": [],
   "source": [
    "def plot(train_accs, val_accs):\n",
    "    plt.figure(200)\n",
    "    plt.title('Training Accuracy')\n",
    "    plt.xlabel('Iteration')\n",
    "    plt.ylabel('Accuracy')\n",
    "    plt.plot(train_accs, 'b')\n",
    "    plt.show()\n",
    "    plt.figure(300)\n",
    "    plt.title('Validation Accuracy')\n",
    "    plt.xlabel('Iteration')\n",
    "    plt.ylabel('Accuracy')   \n",
    "    plt.plot(val_accs, 'b')\n",
    "    plt.show()"
   ]
  },
  {
   "cell_type": "code",
   "execution_count": 9,
   "metadata": {
    "scrolled": false
   },
   "outputs": [],
   "source": [
    "def runModel(model, batch_size):\n",
    "    train_accs, val_accs = [], []\n",
    "    for i in range(NUM_OPT_STEPS):\n",
    "        train(batch_size)\n",
    "        if i % 100 == 0:\n",
    "            train_accs.append(approx_train_accuracy(model))\n",
    "            val_accs.append(val_accuracy(model))\n",
    "            print(\"%6d %5.2f %5.2f\" % (i, train_accs[-1], val_accs[-1]))\n",
    "    plot(train_accs, val_accs)"
   ]
  },
  {
   "cell_type": "code",
   "execution_count": 10,
   "metadata": {},
   "outputs": [
    {
     "name": "stdout",
     "output_type": "stream",
     "text": [
      "     0  0.31  0.27\n",
      "   100  0.62  0.63\n",
      "   200  0.69  0.70\n",
      "   300  0.63  0.63\n",
      "   400  0.73  0.73\n",
      "   500  0.70  0.71\n",
      "   600  0.69  0.70\n",
      "   700  0.69  0.70\n",
      "   800  0.65  0.68\n",
      "   900  0.72  0.71\n",
      "  1000  0.74  0.75\n",
      "  1100  0.73  0.75\n",
      "  1200  0.73  0.75\n",
      "  1300  0.69  0.72\n",
      "  1400  0.77  0.76\n",
      "  1500  0.72  0.75\n",
      "  1600  0.73  0.75\n",
      "  1700  0.74  0.75\n",
      "  1800  0.73  0.75\n",
      "  1900  0.75  0.73\n",
      "  2000  0.73  0.74\n",
      "  2100  0.71  0.73\n",
      "  2200  0.72  0.74\n",
      "  2300  0.69  0.71\n",
      "  2400  0.76  0.77\n",
      "  2500  0.76  0.77\n",
      "  2600  0.73  0.74\n",
      "  2700  0.77  0.76\n",
      "  2800  0.77  0.77\n",
      "  2900  0.75  0.76\n",
      "  3000  0.75  0.75\n",
      "  3100  0.75  0.75\n",
      "  3200  0.77  0.76\n",
      "  3300  0.73  0.74\n",
      "  3400  0.74  0.73\n",
      "  3500  0.77  0.77\n",
      "  3600  0.77  0.79\n",
      "  3700  0.80  0.78\n",
      "  3800  0.74  0.77\n",
      "  3900  0.78  0.77\n",
      "  4000  0.78  0.77\n",
      "  4100  0.77  0.77\n",
      "  4200  0.72  0.75\n",
      "  4300  0.78  0.78\n",
      "  4400  0.78  0.78\n",
      "  4500  0.79  0.79\n",
      "  4600  0.77  0.77\n",
      "  4700  0.79  0.79\n",
      "  4800  0.77  0.76\n",
      "  4900  0.77  0.79\n"
     ]
    },
    {
     "data": {
      "image/png": "[encoded data removed]",
      "text/plain": [
       "<matplotlib.figure.Figure at 0x331abb4eb8>"
      ]
     },
     "metadata": {},
     "output_type": "display_data"
    },
    {
     "data": {
      "image/png": "[encoded data removed]",
      "text/plain": [
       "<matplotlib.figure.Figure at 0x331adf64a8>"
      ]
     },
     "metadata": {},
     "output_type": "display_data"
    }
   ],
   "source": [
    "runModel(model, 1)"
   ]
  },
  {
   "cell_type": "code",
   "execution_count": 21,
   "metadata": {
    "collapsed": true
   },
   "outputs": [],
   "source": [
    "for m in model.children():\n",
    "    m.reset_parameters()"
   ]
  },
  {
   "cell_type": "code",
   "execution_count": 22,
   "metadata": {},
   "outputs": [
    {
     "name": "stdout",
     "output_type": "stream",
     "text": [
      "     0  0.24  0.27\n",
      "   100  0.77  0.75\n",
      "   200  0.76  0.76\n",
      "   300  0.77  0.75\n",
      "   400  0.78  0.78\n",
      "   500  0.79  0.80\n",
      "   600  0.79  0.80\n",
      "   700  0.79  0.80\n",
      "   800  0.82  0.82\n",
      "   900  0.80  0.82\n",
      "  1000  0.81  0.81\n",
      "  1100  0.81  0.81\n",
      "  1200  0.84  0.81\n",
      "  1300  0.80  0.81\n",
      "  1400  0.82  0.82\n",
      "  1500  0.84  0.83\n",
      "  1600  0.83  0.82\n",
      "  1700  0.83  0.82\n",
      "  1800  0.83  0.82\n",
      "  1900  0.83  0.83\n",
      "  2000  0.84  0.83\n",
      "  2100  0.81  0.82\n",
      "  2200  0.83  0.83\n",
      "  2300  0.85  0.83\n",
      "  2400  0.86  0.84\n",
      "  2500  0.84  0.83\n",
      "  2600  0.84  0.83\n",
      "  2700  0.85  0.83\n",
      "  2800  0.84  0.83\n",
      "  2900  0.86  0.83\n",
      "  3000  0.85  0.83\n",
      "  3100  0.87  0.84\n",
      "  3200  0.82  0.84\n",
      "  3300  0.84  0.84\n",
      "  3400  0.84  0.85\n",
      "  3500  0.86  0.84\n",
      "  3600  0.85  0.85\n",
      "  3700  0.86  0.85\n",
      "  3800  0.87  0.85\n",
      "  3900  0.85  0.85\n",
      "  4000  0.85  0.84\n",
      "  4100  0.88  0.85\n",
      "  4200  0.86  0.85\n",
      "  4300  0.86  0.85\n",
      "  4400  0.88  0.86\n",
      "  4500  0.87  0.85\n",
      "  4600  0.86  0.85\n",
      "  4700  0.88  0.85\n",
      "  4800  0.87  0.85\n",
      "  4900  0.86  0.85\n"
     ]
    },
    {
     "data": {
      "image/png": "[encoded data removed]",
      "text/plain": [
       "<matplotlib.figure.Figure at 0x331c39dc18>"
      ]
     },
     "metadata": {},
     "output_type": "display_data"
    },
    {
     "data": {
      "image/png": "[encoded data removed]",
      "text/plain": [
       "<matplotlib.figure.Figure at 0x331ac76d30>"
      ]
     },
     "metadata": {},
     "output_type": "display_data"
    }
   ],
   "source": [
    "runModel(model, 10)"
   ]
  },
  {
   "cell_type": "code",
   "execution_count": 23,
   "metadata": {
    "collapsed": true
   },
   "outputs": [],
   "source": [
    "for m in model.children():\n",
    "    m.reset_parameters()"
   ]
  },
  {
   "cell_type": "code",
   "execution_count": 24,
   "metadata": {},
   "outputs": [
    {
     "name": "stdout",
     "output_type": "stream",
     "text": [
      "     0  0.14  0.16\n",
      "   100  0.79  0.79\n",
      "   200  0.79  0.80\n",
      "   300  0.81  0.82\n",
      "   400  0.81  0.83\n",
      "   500  0.85  0.83\n",
      "   600  0.84  0.84\n",
      "   700  0.83  0.85\n",
      "   800  0.86  0.85\n",
      "   900  0.85  0.84\n",
      "  1000  0.85  0.85\n",
      "  1100  0.87  0.85\n",
      "  1200  0.85  0.85\n",
      "  1300  0.87  0.85\n",
      "  1400  0.86  0.86\n",
      "  1500  0.88  0.86\n",
      "  1600  0.88  0.86\n",
      "  1700  0.89  0.86\n",
      "  1800  0.88  0.86\n",
      "  1900  0.89  0.86\n",
      "  2000  0.88  0.86\n",
      "  2100  0.88  0.86\n",
      "  2200  0.88  0.86\n",
      "  2300  0.90  0.86\n",
      "  2400  0.91  0.87\n",
      "  2500  0.89  0.86\n",
      "  2600  0.90  0.87\n",
      "  2700  0.91  0.86\n",
      "  2800  0.91  0.86\n",
      "  2900  0.89  0.87\n",
      "  3000  0.91  0.86\n",
      "  3100  0.88  0.86\n",
      "  3200  0.91  0.86\n",
      "  3300  0.92  0.86\n",
      "  3400  0.92  0.86\n",
      "  3500  0.92  0.86\n",
      "  3600  0.91  0.86\n",
      "  3700  0.92  0.87\n",
      "  3800  0.93  0.86\n",
      "  3900  0.92  0.87\n",
      "  4000  0.92  0.86\n",
      "  4100  0.92  0.87\n",
      "  4200  0.93  0.87\n",
      "  4300  0.92  0.87\n",
      "  4400  0.93  0.86\n",
      "  4500  0.93  0.87\n",
      "  4600  0.93  0.87\n",
      "  4700  0.93  0.88\n",
      "  4800  0.92  0.87\n",
      "  4900  0.93  0.87\n"
     ]
    },
    {
     "data": {
      "image/png": "[encoded data removed]",
      "text/plain": [
       "<matplotlib.figure.Figure at 0x331c4c1588>"
      ]
     },
     "metadata": {},
     "output_type": "display_data"
    },
    {
     "data": {
      "image/png": "[encoded data removed]",
      "text/plain": [
       "<matplotlib.figure.Figure at 0x331be449e8>"
      ]
     },
     "metadata": {},
     "output_type": "display_data"
    },
    {
     "name": "stdout",
     "output_type": "stream",
     "text": [
      "18.8432776927948\n"
     ]
    }
   ],
   "source": [
    "start = time.time()\n",
    "runModel(model, 64)\n",
    "end = time.time()\n",
    "print(end - start)"
   ]
  },
  {
   "cell_type": "markdown",
   "metadata": {},
   "source": [
    "The best validation accuracy I achieved was 88. The batch size used was 64 and the learning rate was 0.001. I used 5000 optimization steps to reach this accuracy. Initially I had tried 10k however it seemed to not improve after about 5k steps. Training only took ~19 seconds."
   ]
  }
 ],
 "metadata": {
  "kernelspec": {
   "display_name": "Python 3",
   "language": "python",
   "name": "python3"
  },
  "language_info": {
   "codemirror_mode": {
    "name": "ipython",
    "version": 3
   },
   "file_extension": ".py",
   "mimetype": "text/x-python",
   "name": "python",
   "nbconvert_exporter": "python",
   "pygments_lexer": "ipython3",
   "version": "3.6.1"
  }
 },
 "nbformat": 4,
 "nbformat_minor": 2
}
