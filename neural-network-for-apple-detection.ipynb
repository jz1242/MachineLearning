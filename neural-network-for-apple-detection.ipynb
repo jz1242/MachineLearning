{
 "cells": [
  {
   "cell_type": "code",
   "execution_count": null,
   "metadata": {},
   "outputs": [],
   "source": [
    "import matplotlib.pyplot as plt\n",
    "import numpy as np\n",
    "import torch\n",
    "import csv\n",
    "from torch.autograd import Variable\n",
    "\n",
    "images = np.load(\"D:/work/JHUschoolStuff/machinelearning/project1/cs475_project_data/images.npy\")\n",
    "labels = np.load(\"D:/work/JHUschoolStuff/machinelearning/project1/cs475_project_data/labels.npy\")\n",
    "test = np.load(\"D:/work/JHUschoolStuff/machinelearning/project1/cs475_project_data/test_images.npy\")\n",
    "height = images.shape[1]\n",
    "width = images.shape[2]\n",
    "size = height*width\n",
    "images = (images - images.mean()) / images.std()\n",
    "data = images.reshape(images.shape[0],size)\n",
    "test_data = test.reshape(test.shape[0], size)\n",
    "test_data = (test_data - test_data.mean()) / test_data.std()\n",
    "training = 40000\n",
    "validation = 45000\n",
    "testing = 50000\n",
    "apple_label = 0\n",
    "rate = 0.6\n",
    "iterations = 3\n",
    "npw = np.random.rand(5, size)\n",
    "w = Variable(torch.from_numpy(npw).float(), requires_grad=True)\n",
    "w_out = Variable(torch.FloatTensor(5).uniform_(0,1).float(), requires_grad=True)\n",
    "accuracies = np.zeros(400)\n",
    "val_accuracies = np.zeros(400)\n",
    "w, w_out = fit(w, w_out, data, rate, iterations, accuracies, val_accuracies)\n",
    "y_hat = prediction(w, w_out, data)\n"
   ]
  },
  {
   "cell_type": "markdown",
   "metadata": {},
   "source": [
    "Not overfitting\n",
    "Given that our validation data is giving us the same level of accuracy that our training data is giving, it is unlikely that we are overfitting our training data."
   ]
  },
  {
   "cell_type": "code",
   "execution_count": 16,
   "metadata": {
    "collapsed": true,
    "scrolled": false
   },
   "outputs": [],
   "source": [
    "def fit(w, w_out, data, rate, iterations, accuracies, val_accuracies):\n",
    "    for k in range(0, iterations):\n",
    "        count = 0\n",
    "        count_2 = 0\n",
    "        for i in range(0, 40000):\n",
    "            x = torch.from_numpy(data[i]).float()\n",
    "            X_= Variable(x).unsqueeze(1)\n",
    "            val = 1\n",
    "            if labels[i] != 0:\n",
    "                val = -1\n",
    "            multi = torch.clamp(torch.mm(w, X_), -500, 500).float()\n",
    "            activated = torch.sigmoid(multi)\n",
    "            onedAct = activated.squeeze(1)\n",
    "            out = torch.clamp(w_out.dot(onedAct), -500, 500).float()\n",
    "            loss = torch.log(1 + torch.exp(-1*val*out))\n",
    "            loss.backward()\n",
    "\n",
    "            w_out.data = w_out.data - rate*w_out.grad.data\n",
    "            w.data = w.data - rate*w.grad.data\n",
    "            w.grad.data.zero_()\n",
    "            w_out.grad.data.zero_()\n",
    "\n",
    "            if i % 100 == 0:\n",
    "                y_hat = np.zeros(1000)\n",
    "                y = np.zeros(1000)\n",
    "                for j in range(0, 1000):\n",
    "                    s = np.random.randint(0,40000)\n",
    "                    dat = torch.from_numpy(data[s]).float()\n",
    "                    dat_= Variable(dat).unsqueeze(1)\n",
    "                    hidden = torch.mm(w, dat_).float()\n",
    "                    hidden_activated = torch.sigmoid(hidden)\n",
    "                    oneD = hidden_activated.squeeze(1)\n",
    "                    output = w_out.dot(oneD)\n",
    "                    activate_out = torch.sigmoid(output).float()\n",
    "                    if activate_out.data[0] < 0.5:\n",
    "                        y_hat[j] = 0.0\n",
    "                    else:\n",
    "                        y_hat[j] = 1.0\n",
    "                    if labels[s] == 0:\n",
    "                        y[j] = 1.0\n",
    "                    else:\n",
    "                        y[j] = 0.0\n",
    "\n",
    "                accuracies[count] = accuracy(y, y_hat)\n",
    "                count = count + 1\n",
    "\n",
    "                for l in range(0, 1000):\n",
    "                    s = np.random.randint(40000,45000)\n",
    "                    dat = torch.from_numpy(data[s]).float()\n",
    "                    dat_= Variable(dat).unsqueeze(1)\n",
    "                    hidden = torch.mm(w, dat_).float()\n",
    "                    hidden_activated = torch.sigmoid(hidden)\n",
    "                    oneD = hidden_activated.squeeze(1)\n",
    "                    output = w_out.dot(oneD)\n",
    "                    activate_out = torch.sigmoid(output).float()\n",
    "                    if activate_out.data[0] < 0.5:\n",
    "                        y_hat[l] = 0.0\n",
    "                    else:\n",
    "                        y_hat[l] = 1.0\n",
    "                    if labels[s] == 0:\n",
    "                        y[l] = 1.0\n",
    "                    else:\n",
    "                        y[l] = 0.0\n",
    "                val_accuracies[count_2] = accuracy(y, y_hat)\n",
    "                count_2 = count_2 + 1\n",
    "    print(accuracies)\n",
    "    plt.figure(200)\n",
    "    plt.title('Training Accuracy')\n",
    "    plt.xlabel('Iteration')\n",
    "    plt.ylabel('Accuracy')\n",
    "    plt.plot(accuracies, 'b')\n",
    "    plt.show()\n",
    "    plt.figure(300)\n",
    "    plt.title('Validation Accuracy')\n",
    "    plt.xlabel('Iteration')\n",
    "    plt.ylabel('Accuracy')\n",
    "    plt.plot(val_accuracies, 'b')\n",
    "    plt.show()\n",
    "    return w, w_out\n"
   ]
  },
  {
   "cell_type": "code",
   "execution_count": 3,
   "metadata": {
    "collapsed": true
   },
   "outputs": [],
   "source": [
    "def prediction(w, w_out, data):\n",
    "    y_hat = np.zeros(5000)\n",
    "    for j in range(45000, 50000):\n",
    "        dat = torch.from_numpy(data[j]).float()\n",
    "        dat_= Variable(dat).unsqueeze(1)\n",
    "        hidden = torch.mm(w, dat_).float()\n",
    "        hidden_activated = torch.sigmoid(hidden)\n",
    "        oneD = hidden_activated.squeeze(1)\n",
    "        output = w_out.dot(oneD)\n",
    "        activate_out = torch.sigmoid(output).float()\n",
    "        if activate_out.data[0] < 0.5:\n",
    "            y_hat[j - 45000] = 0.0\n",
    "        else:\n",
    "            y_hat[j - 45000] = 1.0\n",
    "    return y_hat\n",
    "    "
   ]
  },
  {
   "cell_type": "code",
   "execution_count": 4,
   "metadata": {
    "collapsed": true
   },
   "outputs": [],
   "source": [
    "def accuracy(y, y_hat):\n",
    "    return (y == y_hat).astype(np.float).mean()"
   ]
  },
  {
   "cell_type": "code",
   "execution_count": 39,
   "metadata": {
    "collapsed": true
   },
   "outputs": [],
   "source": [
    "with open('jzhan127.csv', 'w', newline='') as csvfile:\n",
    "    filewriter = csv.writer(csvfile, delimiter=',',quotechar='|', quoting=csv.QUOTE_MINIMAL)\n",
    "    filewriter.writerow(['id', 'label'])\n",
    "    for i in range(0, 5000):\n",
    "        dat = torch.from_numpy(test_data[i]).float()\n",
    "        dat_= Variable(dat).unsqueeze(1)\n",
    "        hidden = torch.mm(w, dat_).float()\n",
    "        hidden_activated = torch.sigmoid(hidden)\n",
    "        oneD = hidden_activated.squeeze(1)\n",
    "        output = w_out.dot(oneD)\n",
    "        activate_out = torch.sigmoid(output).float()\n",
    "        if activate_out.data[0] < 0.5:\n",
    "            filewriter.writerow([i, '1'])\n",
    "        else:\n",
    "            filewriter.writerow([i, '0'])"
   ]
  },
  {
   "cell_type": "markdown",
   "metadata": {},
   "source": [
    "Kaggle submission: jzhan127.csv"
   ]
  }
 ],
 "metadata": {
  "kernelspec": {
   "display_name": "Python 3",
   "language": "python",
   "name": "python3"
  },
  "language_info": {
   "codemirror_mode": {
    "name": "ipython",
    "version": 3
   },
   "file_extension": ".py",
   "mimetype": "text/x-python",
   "name": "python",
   "nbconvert_exporter": "python",
   "pygments_lexer": "ipython3",
   "version": "3.6.1"
  }
 },
 "nbformat": 4,
 "nbformat_minor": 2
}
